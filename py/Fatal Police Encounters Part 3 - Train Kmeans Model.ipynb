{
 "cells": [
  {
   "cell_type": "markdown",
   "metadata": {},
   "source": [
    "### K-Means Model\n",
    "\n",
    "For this problem, I use a K-Means model to segment the top 100 cities in the United States into similar groups using variables like: population size, growth rate, density, unemployment, income per capita, poverty, and race. Due to the varying scales of the features used, a min/max normalization was used to transform variables to scale between 0 and 1. I hoped to find 5–6 similar cities to plot and compare.\n",
    "\n",
    "From this analysis we can see that the optimal number of clusters is 3. \n",
    "\n"
   ]
  },
  {
   "cell_type": "code",
   "execution_count": 21,
   "metadata": {},
   "outputs": [],
   "source": [
    "#Define local working drive\n",
    "import os\n",
    "os.chdir(\"\")"
   ]
  },
  {
   "cell_type": "code",
   "execution_count": 22,
   "metadata": {},
   "outputs": [],
   "source": [
    "#import libraraies\n",
    "\n",
    "import pandas as pd\n",
    "import numpy as np\n",
    "import matplotlib.pyplot as plt #data visualization\n",
    "import matplotlib.style as style\n",
    "from sklearn.cluster import KMeans\n",
    "from scipy.spatial.distance import cdist\n",
    "from sklearn import preprocessing\n",
    "from sklearn.preprocessing import MinMaxScaler\n",
    "%matplotlib inline\n",
    "import sys\n",
    "\n",
    "#supress warnings\n",
    "if not sys.warnoptions:\n",
    "    import warnings\n",
    "    warnings.simplefilter(\"ignore\")\n"
   ]
  },
  {
   "cell_type": "code",
   "execution_count": 23,
   "metadata": {
    "scrolled": true
   },
   "outputs": [],
   "source": [
    "#Load clean city data file to build K-Means model\n",
    "clean_city_data = pd.read_csv('data/clean_city_data.csv') #read in file from data prep"
   ]
  },
  {
   "cell_type": "code",
   "execution_count": 24,
   "metadata": {},
   "outputs": [],
   "source": [
    "########### PREP DATA FOR K-Means Model  ###########\n",
    "\n",
    "#drop non-numeric and extra columns not used in our model\n",
    "city_df_scale = clean_city_data.drop(columns=['Unnamed: 0','Rank', 'Name', 'county_name','city_state','state', 'pop_change', 'pop_change_per_year', \n",
    "                                    'est_pop_2011', 'est_pop_2012', 'est_pop_2013', 'est_pop_2014', 'est_pop_2015', \n",
    "                                    'est_pop_2016', 'est_pop_2017', 'est_pop_2018', 'est_pop_2019', 'City',\n",
    "                                    'State_Code', '2018 total police force', 'total_employees',\n",
    "                                    '2018 police officers', '2018 police civilians'])\n",
    "\n",
    "#scale and center numeric values to 0-1 to eliminate potential bias due to large differences in the scale of different values\n",
    "scaler = MinMaxScaler()\n",
    "\n",
    "#select variables to scale\n",
    "columns = ['2020_Pop', '2010_Census', 'Change', 'Density_km','Area_km', 'Hispanic', 'White', 'Black', 'Native', 'Asian', 'Pacific','IncomePerCap', 'Poverty', 'Unemployment']\n",
    "\n",
    "city_df_scale[columns] = scaler.fit_transform(city_df_scale[columns])\n"
   ]
  },
  {
   "cell_type": "code",
   "execution_count": 25,
   "metadata": {},
   "outputs": [],
   "source": [
    "########### BUILD & TEST OPTIMAL K MEANS MODEL ###########\n",
    "''' The purpose of this step is to determine the distortion and inertia of our K Means Model at a given for a given \n",
    "value of K. We repeat this step for the range K(1,10) and then compare using the Elbow Method to determine the optimal \n",
    "number of clusters for our model'''\n",
    "\n",
    "distortions = [] \n",
    "inertias = [] \n",
    "mapping1 = {} \n",
    "mapping2 = {} \n",
    "K = range(1,10) #define the range of K values we would like to try\n",
    "  \n",
    "for k in K: \n",
    "    #Building and fitting the model \n",
    "    kmeanModel = KMeans(n_clusters=k).fit(city_df_scale) \n",
    "    kmeanModel.fit(city_df_scale)     \n",
    "      \n",
    "    distortions.append(sum(np.min(cdist(city_df_scale, kmeanModel.cluster_centers_, \n",
    "                      'euclidean'),axis=1)) / city_df_scale.shape[0]) \n",
    "    inertias.append(kmeanModel.inertia_) \n",
    "  \n",
    "    mapping1[k] = sum(np.min(cdist(city_df_scale, kmeanModel.cluster_centers_, \n",
    "                 'euclidean'),axis=1)) / city_df_log.shape[0] \n",
    "    mapping2[k] = kmeanModel.inertia_ "
   ]
  },
  {
   "cell_type": "code",
   "execution_count": 26,
   "metadata": {},
   "outputs": [
    {
     "name": "stdout",
     "output_type": "stream",
     "text": [
      "1 : 0.4814044827490755\n",
      "2 : 0.42053035828751517\n",
      "3 : 0.3755039173399966\n",
      "4 : 0.3560877671522333\n",
      "5 : 0.339428720395335\n",
      "6 : 0.33029700694727526\n",
      "7 : 0.31246642138340447\n",
      "8 : 0.3053478320617383\n",
      "9 : 0.2898416595307023\n"
     ]
    }
   ],
   "source": [
    "for key,val in mapping1.items(): \n",
    "    print(str(key)+' : '+str(val)) "
   ]
  },
  {
   "cell_type": "code",
   "execution_count": 27,
   "metadata": {
    "scrolled": true
   },
   "outputs": [
    {
     "data": {
      "image/png": "[encoded data removed]",
      "text/plain": [
       "<Figure size 432x288 with 1 Axes>"
      ]
     },
     "metadata": {
      "needs_background": "light"
     },
     "output_type": "display_data"
    }
   ],
   "source": [
    "#Plot Elbow chart based on Intertia\n",
    "plt.plot(K, distortions, 'bx-') \n",
    "plt.xlabel('Values of K') \n",
    "plt.ylabel('Distortion') \n",
    "plt.title('The Elbow Method using Distortion') \n",
    "plt.show() "
   ]
  },
  {
   "cell_type": "code",
   "execution_count": 28,
   "metadata": {},
   "outputs": [
    {
     "name": "stdout",
     "output_type": "stream",
     "text": [
      "1 : 57.14229983205121\n",
      "2 : 45.14130393257841\n",
      "3 : 37.2173798163422\n",
      "4 : 32.28508706639806\n",
      "5 : 28.507223765678\n",
      "6 : 25.849945124833077\n",
      "7 : 23.959579721871417\n",
      "8 : 22.00204312891718\n",
      "9 : 20.742411018784747\n"
     ]
    }
   ],
   "source": [
    "for key,val in mapping2.items(): \n",
    "    print(str(key)+' : '+str(val)) "
   ]
  },
  {
   "cell_type": "code",
   "execution_count": 29,
   "metadata": {},
   "outputs": [
    {
     "data": {
      "image/png": "[encoded data removed]",
      "text/plain": [
       "<Figure size 432x288 with 1 Axes>"
      ]
     },
     "metadata": {
      "needs_background": "light"
     },
     "output_type": "display_data"
    }
   ],
   "source": [
    "#Plot Elbow chart based on Intertia\n",
    "plt.plot(K, inertias, 'bx-') \n",
    "plt.xlabel('Values of K') \n",
    "plt.ylabel('Inertia') \n",
    "plt.title('The Elbow Method using Inertia') \n",
    "plt.show()"
   ]
  }
 ],
 "metadata": {
  "kernelspec": {
   "display_name": "Python 3",
   "language": "python",
   "name": "python3"
  },
  "language_info": {
   "codemirror_mode": {
    "name": "ipython",
    "version": 3
   },
   "file_extension": ".py",
   "mimetype": "text/x-python",
   "name": "python",
   "nbconvert_exporter": "python",
   "pygments_lexer": "ipython3",
   "version": "3.7.3"
  }
 },
 "nbformat": 4,
 "nbformat_minor": 4
}
