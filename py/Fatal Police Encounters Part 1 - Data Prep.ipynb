{
 "cells": [
  {
   "cell_type": "code",
   "execution_count": 3,
   "metadata": {},
   "outputs": [],
   "source": [
    "#Define local working drive\n",
    "import os\n",
    "os.chdir(\"/Users/jacobboysen/myprojects/us-fatal-police-encounters/\")"
   ]
  },
  {
   "cell_type": "code",
   "execution_count": 4,
   "metadata": {},
   "outputs": [],
   "source": [
    "#load libraries\n",
    "import numpy as np\n",
    "import pandas as pd\n",
    "import matplotlib.pyplot as plt #data visualization\n",
    "import sys\n",
    "\n",
    "#supress warnings\n",
    "if not sys.warnoptions:\n",
    "    import warnings\n",
    "    warnings.simplefilter(\"ignore\")"
   ]
  },
  {
   "cell_type": "code",
   "execution_count": 5,
   "metadata": {},
   "outputs": [],
   "source": [
    "#Import data\n",
    "census_data = pd.DataFrame(pd.read_csv('data/census_data_2017.csv')) #2017 U.S. County Census Data\n",
    "city_data = pd.DataFrame(pd.read_csv('data/uscities.csv')) #US Cities with county\n",
    "top_city = pd.DataFrame(pd.read_csv('data/city_population_data.csv')) #Top 200 U.S. cities with 2020 population and density\n",
    "police_data = pd.DataFrame(pd.read_csv('data/police_departments_2018.csv')) #2018 report of the number of active police officers by city"
   ]
  },
  {
   "cell_type": "code",
   "execution_count": 4,
   "metadata": {},
   "outputs": [],
   "source": [
    "############ DATA PREP ################\n",
    "\n",
    "#Step 1 - create city_state unique ID to join the top_city and city_data.\n",
    "'''This step is necessary to avoid issues in joining data due to more than one city with the same name. The city_data \n",
    "is joined with the top_city data to bring in the COUNTY value for each city'''\n",
    "top_city[\"city_state\"] = top_city['Name'] + \"_\" +  top_city['State']\n",
    "city_data['city_state'] = city_data['city'] + \"_\" +  city_data['state_name']\n",
    "\n",
    "#Step 2 - join the top_city data with the city_data on the city_state unique value\n",
    "city_df = pd.merge(top_city, city_data, on='city_state', how='left' )\n",
    "city_df.drop(columns=['city','county_name_all','county_fips_all','population', \n",
    "                      'density', 'source', 'timezone', 'ranking', 'zips', 'id','military','incorporated'])\n",
    "\n",
    "#Step 3 - create county_state unique Id to join the new city_df data with the 2017 Census data by county.\n",
    "city_df['county_state'] = city_df['county_name'] + \"_\" +  city_df['State'] #create county_state unique id\n",
    "census_data['county_state'] = census_data['County'] + \"_\" +  census_data['State'] #create county_state unique id\n",
    "city_df = pd.merge(city_df,census_data, on='county_state', how='left' ) #join city_df with census_data\n",
    "\n",
    "city_df = city_df[['Rank', 'Name', 'county_name','city_state','State_x', '2020_Pop', '2010_Census', 'Change',\n",
    "       'Density_km', 'Area_km','Hispanic', 'White', 'Black', 'Native', 'Asian', 'Pacific','IncomePerCap',\n",
    "       'Poverty', 'Unemployment']] #subset city_df data to include the fields we'll use in our analysis\n",
    "\n",
    "#Step 4 - create estimated annual population based on known 2010 and 2020 population\n",
    "city_df[\"pop_change\"] = city_df[\"2020_Pop\"] - city_df[\"2010_Census\"] #calc the 2010 - 2020 population change\n",
    "city_df[\"pop_change_per_year\"] = city_df[\"pop_change\"] / 10 #divide the population change by 10 to get the estimated annual increase\n",
    "\n",
    "#Create new annual population estimates based on the known 2010 and 2020 population.\n",
    "'''This loop creates a new column for each year and uses the pop_change_per_year field to estimate the \n",
    "population for given year '''\n",
    "\n",
    "for i in range(1,10):\n",
    "     x=2010+i   \n",
    "     city_df['est_pop_{}'.format(x)] = city_df['2010_Census'] + i * city_df['pop_change_per_year']\n"
   ]
  },
  {
   "cell_type": "code",
   "execution_count": 5,
   "metadata": {},
   "outputs": [],
   "source": [
    "#Merge police data with city_df\n",
    "police_data[\"city_state\"] = police_data[\"City\"] +\"_\"+ police_data[\"State\"]\n",
    "city_df = pd.merge(city_df, police_data, on='city_state', how='left' )"
   ]
  },
  {
   "cell_type": "code",
   "execution_count": 6,
   "metadata": {},
   "outputs": [],
   "source": [
    "#remove duplicate then rename columns\n",
    "city_df = city_df.drop(columns=['State'])\n",
    "\n",
    "city_df = city_df.rename(columns={'population': '2018 total police force', \n",
    "                                                    'total_officers': '2018 police officers',\n",
    "                                                    'total_civilians': '2018 police civilians',\n",
    "                                                    'State_x' : 'state'\n",
    "                                                   })"
   ]
  },
  {
   "cell_type": "code",
   "execution_count": 7,
   "metadata": {},
   "outputs": [],
   "source": [
    "#Write city_df to working drive for Step 3 Analysis\n",
    "city_df.to_csv('data/clean_city_data.csv')"
   ]
  }
 ],
 "metadata": {
  "kernelspec": {
   "display_name": "Python 3",
   "language": "python",
   "name": "python3"
  },
  "language_info": {
   "codemirror_mode": {
    "name": "ipython",
    "version": 3
   },
   "file_extension": ".py",
   "mimetype": "text/x-python",
   "name": "python",
   "nbconvert_exporter": "python",
   "pygments_lexer": "ipython3",
   "version": "3.7.3"
  }
 },
 "nbformat": 4,
 "nbformat_minor": 4
}
