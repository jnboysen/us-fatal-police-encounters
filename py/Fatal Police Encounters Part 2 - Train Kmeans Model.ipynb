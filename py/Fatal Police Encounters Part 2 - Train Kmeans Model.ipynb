{
 "cells": [
  {
   "cell_type": "code",
   "execution_count": 4,
   "metadata": {},
   "outputs": [],
   "source": [
    "#Define local working drive\n",
    "import os\n",
    "#os.chdir(\"\")"
   ]
  },
  {
   "cell_type": "code",
   "execution_count": 5,
   "metadata": {},
   "outputs": [],
   "source": [
    "#import libraraies\n",
    "\n",
    "import pandas as pd\n",
    "import numpy as np\n",
    "import matplotlib.pyplot as plt #data visualization\n",
    "import matplotlib.style as style\n",
    "from sklearn.cluster import KMeans\n",
    "from scipy.spatial.distance import cdist\n",
    "%matplotlib inline\n",
    "import sys\n",
    "\n",
    "#supress warnings\n",
    "if not sys.warnoptions:\n",
    "    import warnings\n",
    "    warnings.simplefilter(\"ignore\")\n"
   ]
  },
  {
   "cell_type": "code",
   "execution_count": 6,
   "metadata": {
    "scrolled": true
   },
   "outputs": [],
   "source": [
    "#Load and prep data for K Means model induction\n",
    "clean_city_data = pd.read_csv('data/clean_city_data.csv') #read in file from data prep\n",
    "\n",
    "#Drop fields we don't expect to use in our K Means model\n",
    "city_df_log = clean_city_data.drop(columns=['Rank', 'Name', 'county_name','city_state','state', 'pop_change', 'pop_change_per_year', \n",
    "                                    'est_pop_2011', 'est_pop_2012', 'est_pop_2013', 'est_pop_2014', 'est_pop_2015', \n",
    "                                    'est_pop_2016', 'est_pop_2017', 'est_pop_2018', 'est_pop_2019', 'City',\n",
    "                                    'State_Code', '2018 total police force', 'total_employees',\n",
    "                                    '2018 police officers', '2018 police civilians'])\n",
    "\n",
    "#Fill in 0 with NaN\n",
    "city_df_log = city_df_log.replace(0, np.nan)\n",
    "\n",
    "#For Loop to log each of the numeric values in place then replace NaN values with 0.\n",
    "for column in city_df_log.columns:\n",
    "    try:\n",
    "        city_df_log[column] = np.log10(city_df_log[column]).fillna(0)\n",
    "    except (ValueError, AttributeError):\n",
    "        pass\n"
   ]
  },
  {
   "cell_type": "code",
   "execution_count": 7,
   "metadata": {},
   "outputs": [],
   "source": [
    "########### BUILD & TEST OPTIMAL K MEANS MODEL ###########\n",
    "''' The purpose of this step is to determine the distortion and inertia of our K Means Model at a given for a given \n",
    "value of K. We repeat this step for the range K(1,10) and then compare using the Elbow Method to determine the optimal \n",
    "number of clusters for our model'''\n",
    "\n",
    "distortions = [] \n",
    "inertias = [] \n",
    "mapping1 = {} \n",
    "mapping2 = {} \n",
    "K = range(1,10) #define the range of K values we would like to try\n",
    "  \n",
    "for k in K: \n",
    "    #Building and fitting the model \n",
    "    kmeanModel = KMeans(n_clusters=k).fit(city_df_log) \n",
    "    kmeanModel.fit(city_df_log)     \n",
    "      \n",
    "    distortions.append(sum(np.min(cdist(city_df_log, kmeanModel.cluster_centers_, \n",
    "                      'euclidean'),axis=1)) / city_df_log.shape[0]) \n",
    "    inertias.append(kmeanModel.inertia_) \n",
    "  \n",
    "    mapping1[k] = sum(np.min(cdist(city_df_log, kmeanModel.cluster_centers_, \n",
    "                 'euclidean'),axis=1)) / city_df_log.shape[0] \n",
    "    mapping2[k] = kmeanModel.inertia_ \n",
    "    \n",
    "#Reference: https://www.geeksforgeeks.org/elbow-method-for-optimal-value-of-k-in-kmeans/"
   ]
  },
  {
   "cell_type": "code",
   "execution_count": 8,
   "metadata": {},
   "outputs": [
    {
     "name": "stdout",
     "output_type": "stream",
     "text": [
      "1 : 1.5404027987520084\n",
      "2 : 1.21907275717562\n",
      "3 : 1.1133853668301372\n",
      "4 : 1.030198817209361\n",
      "5 : 0.9769899303235409\n",
      "6 : 0.9427639292549332\n",
      "7 : 0.9104336610562622\n",
      "8 : 0.8895988348914411\n",
      "9 : 0.8625987281647327\n"
     ]
    }
   ],
   "source": [
    "for key,val in mapping1.items(): \n",
    "    print(str(key)+' : '+str(val)) "
   ]
  },
  {
   "cell_type": "code",
   "execution_count": 9,
   "metadata": {
    "scrolled": true
   },
   "outputs": [
    {
     "data": {
      "image/png": "[encoded data removed]",
      "text/plain": [
       "<Figure size 432x288 with 1 Axes>"
      ]
     },
     "metadata": {
      "needs_background": "light"
     },
     "output_type": "display_data"
    }
   ],
   "source": [
    "#Plot Elbow chart based on Intertia\n",
    "plt.plot(K, distortions, 'bx-') \n",
    "plt.xlabel('Values of K') \n",
    "plt.ylabel('Distortion') \n",
    "plt.title('The Elbow Method using Distortion') \n",
    "plt.show() "
   ]
  },
  {
   "cell_type": "code",
   "execution_count": 10,
   "metadata": {},
   "outputs": [
    {
     "name": "stdout",
     "output_type": "stream",
     "text": [
      "1 : 684.1828444105927\n",
      "2 : 335.5486384459199\n",
      "3 : 276.6302434119103\n",
      "4 : 237.79652956926867\n",
      "5 : 214.9171815575549\n",
      "6 : 198.68694784636222\n",
      "7 : 185.34180720704862\n",
      "8 : 174.3841878064395\n",
      "9 : 166.77253118952657\n"
     ]
    }
   ],
   "source": [
    "for key,val in mapping2.items(): \n",
    "    print(str(key)+' : '+str(val)) "
   ]
  },
  {
   "cell_type": "code",
   "execution_count": 11,
   "metadata": {},
   "outputs": [
    {
     "data": {
      "image/png": "[encoded data removed]",
      "text/plain": [
       "<Figure size 432x288 with 1 Axes>"
      ]
     },
     "metadata": {
      "needs_background": "light"
     },
     "output_type": "display_data"
    }
   ],
   "source": [
    "#Plot Elbow chart based on Intertia\n",
    "plt.plot(K, inertias, 'bx-') \n",
    "plt.xlabel('Values of K') \n",
    "plt.ylabel('Inertia') \n",
    "plt.title('The Elbow Method using Inertia') \n",
    "plt.show()"
   ]
  },
  {
   "cell_type": "code",
   "execution_count": null,
   "metadata": {},
   "outputs": [],
   "source": []
  },
  {
   "cell_type": "code",
   "execution_count": null,
   "metadata": {},
   "outputs": [],
   "source": []
  }
 ],
 "metadata": {
  "kernelspec": {
   "display_name": "Python 3",
   "language": "python",
   "name": "python3"
  },
  "language_info": {
   "codemirror_mode": {
    "name": "ipython",
    "version": 3
   },
   "file_extension": ".py",
   "mimetype": "text/x-python",
   "name": "python",
   "nbconvert_exporter": "python",
   "pygments_lexer": "ipython3",
   "version": "3.7.3"
  }
 },
 "nbformat": 4,
 "nbformat_minor": 4
}
